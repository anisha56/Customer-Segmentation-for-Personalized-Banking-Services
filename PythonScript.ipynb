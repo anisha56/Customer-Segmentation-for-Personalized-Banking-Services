{
 "cells": [
  {
   "cell_type": "code",
   "execution_count": 1,
   "id": "e1d4543c",
   "metadata": {},
   "outputs": [],
   "source": [
    "import pandas as pd\n",
    "from datetime import datetime\n",
    "from matplotlib import pyplot as plt\n",
    "import seaborn as sns"
   ]
  },
  {
   "cell_type": "code",
   "execution_count": 2,
   "id": "3b09e7b2",
   "metadata": {},
   "outputs": [
    {
     "data": {
      "text/html": [
       "<div>\n",
       "<style scoped>\n",
       "    .dataframe tbody tr th:only-of-type {\n",
       "        vertical-align: middle;\n",
       "    }\n",
       "\n",
       "    .dataframe tbody tr th {\n",
       "        vertical-align: top;\n",
       "    }\n",
       "\n",
       "    .dataframe thead th {\n",
       "        text-align: right;\n",
       "    }\n",
       "</style>\n",
       "<table border=\"1\" class=\"dataframe\">\n",
       "  <thead>\n",
       "    <tr style=\"text-align: right;\">\n",
       "      <th></th>\n",
       "      <th>TransactionID</th>\n",
       "      <th>CustomerID</th>\n",
       "      <th>CustomerDOB</th>\n",
       "      <th>CustGender</th>\n",
       "      <th>CustLocation</th>\n",
       "      <th>CustAccountBalance</th>\n",
       "      <th>TransactionDate</th>\n",
       "      <th>TransactionTime</th>\n",
       "      <th>TransactionAmount (INR)</th>\n",
       "    </tr>\n",
       "  </thead>\n",
       "  <tbody>\n",
       "    <tr>\n",
       "      <th>0</th>\n",
       "      <td>T1</td>\n",
       "      <td>C5841053</td>\n",
       "      <td>10-01-1994</td>\n",
       "      <td>F</td>\n",
       "      <td>JAMSHEDPUR</td>\n",
       "      <td>17819.05</td>\n",
       "      <td>02-08-2016</td>\n",
       "      <td>143207</td>\n",
       "      <td>25.0</td>\n",
       "    </tr>\n",
       "    <tr>\n",
       "      <th>1</th>\n",
       "      <td>T2</td>\n",
       "      <td>C2142763</td>\n",
       "      <td>04-04-1957</td>\n",
       "      <td>M</td>\n",
       "      <td>JHAJJAR</td>\n",
       "      <td>2270.69</td>\n",
       "      <td>02-08-2016</td>\n",
       "      <td>141858</td>\n",
       "      <td>27999.0</td>\n",
       "    </tr>\n",
       "    <tr>\n",
       "      <th>2</th>\n",
       "      <td>T3</td>\n",
       "      <td>C4417068</td>\n",
       "      <td>26-11-1996</td>\n",
       "      <td>F</td>\n",
       "      <td>MUMBAI</td>\n",
       "      <td>17874.44</td>\n",
       "      <td>02-08-2016</td>\n",
       "      <td>142712</td>\n",
       "      <td>459.0</td>\n",
       "    </tr>\n",
       "    <tr>\n",
       "      <th>3</th>\n",
       "      <td>T4</td>\n",
       "      <td>C5342380</td>\n",
       "      <td>14-09-1973</td>\n",
       "      <td>F</td>\n",
       "      <td>MUMBAI</td>\n",
       "      <td>866503.21</td>\n",
       "      <td>02-08-2016</td>\n",
       "      <td>142714</td>\n",
       "      <td>2060.0</td>\n",
       "    </tr>\n",
       "    <tr>\n",
       "      <th>4</th>\n",
       "      <td>T5</td>\n",
       "      <td>C9031234</td>\n",
       "      <td>24-03-1988</td>\n",
       "      <td>F</td>\n",
       "      <td>NAVI MUMBAI</td>\n",
       "      <td>6714.43</td>\n",
       "      <td>02-08-2016</td>\n",
       "      <td>181156</td>\n",
       "      <td>1762.5</td>\n",
       "    </tr>\n",
       "  </tbody>\n",
       "</table>\n",
       "</div>"
      ],
      "text/plain": [
       "  TransactionID CustomerID CustomerDOB CustGender CustLocation  \\\n",
       "0            T1   C5841053  10-01-1994          F   JAMSHEDPUR   \n",
       "1            T2   C2142763  04-04-1957          M      JHAJJAR   \n",
       "2            T3   C4417068  26-11-1996          F       MUMBAI   \n",
       "3            T4   C5342380  14-09-1973          F       MUMBAI   \n",
       "4            T5   C9031234  24-03-1988          F  NAVI MUMBAI   \n",
       "\n",
       "   CustAccountBalance TransactionDate  TransactionTime  \\\n",
       "0            17819.05      02-08-2016           143207   \n",
       "1             2270.69      02-08-2016           141858   \n",
       "2            17874.44      02-08-2016           142712   \n",
       "3           866503.21      02-08-2016           142714   \n",
       "4             6714.43      02-08-2016           181156   \n",
       "\n",
       "   TransactionAmount (INR)  \n",
       "0                     25.0  \n",
       "1                  27999.0  \n",
       "2                    459.0  \n",
       "3                   2060.0  \n",
       "4                   1762.5  "
      ]
     },
     "execution_count": 2,
     "metadata": {},
     "output_type": "execute_result"
    }
   ],
   "source": [
    "df_bank_transactions = pd.read_csv(\"bank_transactions.csv\")\n",
    "\n",
    "# Parse with flexible logic\n",
    "df_bank_transactions['CustomerDOB'] = pd.to_datetime(df_bank_transactions['CustomerDOB'], dayfirst=True, errors='coerce')\n",
    "current_year = datetime.now().year\n",
    "df_bank_transactions['CustomerDOB'] = df_bank_transactions['CustomerDOB'].apply(\n",
    "    lambda x: x.replace(year=x.year - 100) if x.year > current_year else x\n",
    ")\n",
    "df_bank_transactions['TransactionDate'] = pd.to_datetime(df_bank_transactions['TransactionDate'], dayfirst=True, errors='coerce')\n",
    "# Format like Excel\n",
    "df_bank_transactions['CustomerDOB'] = df_bank_transactions['CustomerDOB'].dt.strftime('%d-%m-%Y')\n",
    "df_bank_transactions['TransactionDate'] = df_bank_transactions['TransactionDate'].dt.strftime('%d-%m-%Y')\n",
    "df_bank_transactions.head(5)"
   ]
  },
  {
   "cell_type": "code",
   "execution_count": 3,
   "id": "579ee137",
   "metadata": {},
   "outputs": [
    {
     "data": {
      "text/html": [
       "<div>\n",
       "<style scoped>\n",
       "    .dataframe tbody tr th:only-of-type {\n",
       "        vertical-align: middle;\n",
       "    }\n",
       "\n",
       "    .dataframe tbody tr th {\n",
       "        vertical-align: top;\n",
       "    }\n",
       "\n",
       "    .dataframe thead th {\n",
       "        text-align: right;\n",
       "    }\n",
       "</style>\n",
       "<table border=\"1\" class=\"dataframe\">\n",
       "  <thead>\n",
       "    <tr style=\"text-align: right;\">\n",
       "      <th></th>\n",
       "      <th>TransactionID</th>\n",
       "      <th>CustomerID</th>\n",
       "      <th>CustomerDOB</th>\n",
       "      <th>CustGender</th>\n",
       "      <th>CustLocation</th>\n",
       "      <th>CustAccountBalance</th>\n",
       "      <th>TransactionDate</th>\n",
       "      <th>TransactionTime</th>\n",
       "      <th>TransactionAmount (INR)</th>\n",
       "    </tr>\n",
       "  </thead>\n",
       "  <tbody>\n",
       "    <tr>\n",
       "      <th>0</th>\n",
       "      <td>T1</td>\n",
       "      <td>C5841053</td>\n",
       "      <td>10-01-1994</td>\n",
       "      <td>F</td>\n",
       "      <td>JAMSHEDPUR</td>\n",
       "      <td>17819.05</td>\n",
       "      <td>02-08-2016</td>\n",
       "      <td>143207</td>\n",
       "      <td>25.0</td>\n",
       "    </tr>\n",
       "    <tr>\n",
       "      <th>1</th>\n",
       "      <td>T2</td>\n",
       "      <td>C2142763</td>\n",
       "      <td>04-04-1957</td>\n",
       "      <td>M</td>\n",
       "      <td>JHAJJAR</td>\n",
       "      <td>2270.69</td>\n",
       "      <td>02-08-2016</td>\n",
       "      <td>141858</td>\n",
       "      <td>27999.0</td>\n",
       "    </tr>\n",
       "    <tr>\n",
       "      <th>2</th>\n",
       "      <td>T3</td>\n",
       "      <td>C4417068</td>\n",
       "      <td>26-11-1996</td>\n",
       "      <td>F</td>\n",
       "      <td>MUMBAI</td>\n",
       "      <td>17874.44</td>\n",
       "      <td>02-08-2016</td>\n",
       "      <td>142712</td>\n",
       "      <td>459.0</td>\n",
       "    </tr>\n",
       "    <tr>\n",
       "      <th>3</th>\n",
       "      <td>T4</td>\n",
       "      <td>C5342380</td>\n",
       "      <td>14-09-1973</td>\n",
       "      <td>F</td>\n",
       "      <td>MUMBAI</td>\n",
       "      <td>866503.21</td>\n",
       "      <td>02-08-2016</td>\n",
       "      <td>142714</td>\n",
       "      <td>2060.0</td>\n",
       "    </tr>\n",
       "    <tr>\n",
       "      <th>4</th>\n",
       "      <td>T5</td>\n",
       "      <td>C9031234</td>\n",
       "      <td>24-03-1988</td>\n",
       "      <td>F</td>\n",
       "      <td>NAVI MUMBAI</td>\n",
       "      <td>6714.43</td>\n",
       "      <td>02-08-2016</td>\n",
       "      <td>181156</td>\n",
       "      <td>1762.5</td>\n",
       "    </tr>\n",
       "  </tbody>\n",
       "</table>\n",
       "</div>"
      ],
      "text/plain": [
       "  TransactionID CustomerID CustomerDOB CustGender CustLocation  \\\n",
       "0            T1   C5841053  10-01-1994          F   JAMSHEDPUR   \n",
       "1            T2   C2142763  04-04-1957          M      JHAJJAR   \n",
       "2            T3   C4417068  26-11-1996          F       MUMBAI   \n",
       "3            T4   C5342380  14-09-1973          F       MUMBAI   \n",
       "4            T5   C9031234  24-03-1988          F  NAVI MUMBAI   \n",
       "\n",
       "   CustAccountBalance TransactionDate  TransactionTime  \\\n",
       "0            17819.05      02-08-2016           143207   \n",
       "1             2270.69      02-08-2016           141858   \n",
       "2            17874.44      02-08-2016           142712   \n",
       "3           866503.21      02-08-2016           142714   \n",
       "4             6714.43      02-08-2016           181156   \n",
       "\n",
       "   TransactionAmount (INR)  \n",
       "0                     25.0  \n",
       "1                  27999.0  \n",
       "2                    459.0  \n",
       "3                   2060.0  \n",
       "4                   1762.5  "
      ]
     },
     "execution_count": 3,
     "metadata": {},
     "output_type": "execute_result"
    }
   ],
   "source": [
    "df_bank_transactions_copy = df_bank_transactions.copy()\n",
    "df_bank_transactions_copy.head(5)"
   ]
  },
  {
   "cell_type": "code",
   "execution_count": 4,
   "id": "bc4a0f40",
   "metadata": {},
   "outputs": [
    {
     "data": {
      "text/plain": [
       "TransactionID                 0\n",
       "CustomerID                    0\n",
       "CustomerDOB                3397\n",
       "CustGender                 1100\n",
       "CustLocation                151\n",
       "CustAccountBalance         2369\n",
       "TransactionDate               0\n",
       "TransactionTime               0\n",
       "TransactionAmount (INR)       0\n",
       "dtype: int64"
      ]
     },
     "execution_count": 4,
     "metadata": {},
     "output_type": "execute_result"
    }
   ],
   "source": [
    "df_bank_transactions.isnull().sum()"
   ]
  },
  {
   "cell_type": "code",
   "execution_count": 5,
   "id": "65d80785",
   "metadata": {},
   "outputs": [],
   "source": [
    "df_bank_transactions_copy[\"CustomerDOB\"] = pd.to_datetime(df_bank_transactions_copy[\"CustomerDOB\"], format= \"%d-%m-%Y\")\n",
    "df_bank_transactions_copy[\"TransactionDate\"] = pd.to_datetime(df_bank_transactions_copy[\"TransactionDate\"], format= \"%d-%m-%Y\")"
   ]
  },
  {
   "cell_type": "code",
   "execution_count": 6,
   "id": "c7f45925",
   "metadata": {},
   "outputs": [
    {
     "name": "stdout",
     "output_type": "stream",
     "text": [
      "<class 'pandas.core.frame.DataFrame'>\n",
      "RangeIndex: 1048567 entries, 0 to 1048566\n",
      "Data columns (total 9 columns):\n",
      " #   Column                   Non-Null Count    Dtype         \n",
      "---  ------                   --------------    -----         \n",
      " 0   TransactionID            1048567 non-null  object        \n",
      " 1   CustomerID               1048567 non-null  object        \n",
      " 2   CustomerDOB              1045170 non-null  datetime64[ns]\n",
      " 3   CustGender               1047467 non-null  object        \n",
      " 4   CustLocation             1048416 non-null  object        \n",
      " 5   CustAccountBalance       1046198 non-null  float64       \n",
      " 6   TransactionDate          1048567 non-null  datetime64[ns]\n",
      " 7   TransactionTime          1048567 non-null  int64         \n",
      " 8   TransactionAmount (INR)  1048567 non-null  float64       \n",
      "dtypes: datetime64[ns](2), float64(2), int64(1), object(4)\n",
      "memory usage: 72.0+ MB\n"
     ]
    }
   ],
   "source": [
    "df_bank_transactions_copy.info()"
   ]
  },
  {
   "cell_type": "code",
   "execution_count": 7,
   "id": "a2ba808f",
   "metadata": {},
   "outputs": [
    {
     "data": {
      "text/html": [
       "<div>\n",
       "<style scoped>\n",
       "    .dataframe tbody tr th:only-of-type {\n",
       "        vertical-align: middle;\n",
       "    }\n",
       "\n",
       "    .dataframe tbody tr th {\n",
       "        vertical-align: top;\n",
       "    }\n",
       "\n",
       "    .dataframe thead th {\n",
       "        text-align: right;\n",
       "    }\n",
       "</style>\n",
       "<table border=\"1\" class=\"dataframe\">\n",
       "  <thead>\n",
       "    <tr style=\"text-align: right;\">\n",
       "      <th></th>\n",
       "      <th>TransactionID</th>\n",
       "      <th>CustomerID</th>\n",
       "      <th>CustomerDOB</th>\n",
       "      <th>CustGender</th>\n",
       "      <th>CustLocation</th>\n",
       "      <th>CustAccountBalance</th>\n",
       "      <th>TransactionDate</th>\n",
       "      <th>TransactionTime</th>\n",
       "      <th>TransactionAmount</th>\n",
       "      <th>Age</th>\n",
       "      <th>GenderCode</th>\n",
       "      <th>LocationCode</th>\n",
       "    </tr>\n",
       "  </thead>\n",
       "  <tbody>\n",
       "    <tr>\n",
       "      <th>0</th>\n",
       "      <td>T1</td>\n",
       "      <td>C5841053</td>\n",
       "      <td>1994-01-10</td>\n",
       "      <td>F</td>\n",
       "      <td>JAMSHEDPUR</td>\n",
       "      <td>17819.05</td>\n",
       "      <td>2016-08-02</td>\n",
       "      <td>14:32:07</td>\n",
       "      <td>25.00</td>\n",
       "      <td>31.0</td>\n",
       "      <td>0</td>\n",
       "      <td>3557</td>\n",
       "    </tr>\n",
       "    <tr>\n",
       "      <th>1</th>\n",
       "      <td>T2</td>\n",
       "      <td>C2142763</td>\n",
       "      <td>1957-04-04</td>\n",
       "      <td>M</td>\n",
       "      <td>JHAJJAR</td>\n",
       "      <td>2270.69</td>\n",
       "      <td>2016-08-02</td>\n",
       "      <td>14:18:58</td>\n",
       "      <td>27999.00</td>\n",
       "      <td>68.0</td>\n",
       "      <td>1</td>\n",
       "      <td>3618</td>\n",
       "    </tr>\n",
       "    <tr>\n",
       "      <th>2</th>\n",
       "      <td>T3</td>\n",
       "      <td>C4417068</td>\n",
       "      <td>1996-11-26</td>\n",
       "      <td>F</td>\n",
       "      <td>MUMBAI</td>\n",
       "      <td>17874.44</td>\n",
       "      <td>2016-08-02</td>\n",
       "      <td>14:27:12</td>\n",
       "      <td>459.00</td>\n",
       "      <td>29.0</td>\n",
       "      <td>0</td>\n",
       "      <td>5219</td>\n",
       "    </tr>\n",
       "    <tr>\n",
       "      <th>3</th>\n",
       "      <td>T4</td>\n",
       "      <td>C5342380</td>\n",
       "      <td>1973-09-14</td>\n",
       "      <td>F</td>\n",
       "      <td>MUMBAI</td>\n",
       "      <td>866503.21</td>\n",
       "      <td>2016-08-02</td>\n",
       "      <td>14:27:14</td>\n",
       "      <td>2060.00</td>\n",
       "      <td>52.0</td>\n",
       "      <td>0</td>\n",
       "      <td>5219</td>\n",
       "    </tr>\n",
       "    <tr>\n",
       "      <th>4</th>\n",
       "      <td>T5</td>\n",
       "      <td>C9031234</td>\n",
       "      <td>1988-03-24</td>\n",
       "      <td>F</td>\n",
       "      <td>NAVI MUMBAI</td>\n",
       "      <td>6714.43</td>\n",
       "      <td>2016-08-02</td>\n",
       "      <td>18:11:56</td>\n",
       "      <td>1762.50</td>\n",
       "      <td>37.0</td>\n",
       "      <td>0</td>\n",
       "      <td>5606</td>\n",
       "    </tr>\n",
       "    <tr>\n",
       "      <th>5</th>\n",
       "      <td>T6</td>\n",
       "      <td>C1536588</td>\n",
       "      <td>1972-10-08</td>\n",
       "      <td>F</td>\n",
       "      <td>ITANAGAR</td>\n",
       "      <td>53609.20</td>\n",
       "      <td>2016-08-02</td>\n",
       "      <td>17:39:40</td>\n",
       "      <td>676.00</td>\n",
       "      <td>53.0</td>\n",
       "      <td>0</td>\n",
       "      <td>3473</td>\n",
       "    </tr>\n",
       "    <tr>\n",
       "      <th>6</th>\n",
       "      <td>T7</td>\n",
       "      <td>C7126560</td>\n",
       "      <td>1992-01-26</td>\n",
       "      <td>F</td>\n",
       "      <td>MUMBAI</td>\n",
       "      <td>973.46</td>\n",
       "      <td>2016-08-02</td>\n",
       "      <td>17:38:06</td>\n",
       "      <td>566.00</td>\n",
       "      <td>33.0</td>\n",
       "      <td>0</td>\n",
       "      <td>5219</td>\n",
       "    </tr>\n",
       "    <tr>\n",
       "      <th>7</th>\n",
       "      <td>T8</td>\n",
       "      <td>C1220223</td>\n",
       "      <td>1982-01-27</td>\n",
       "      <td>M</td>\n",
       "      <td>MUMBAI</td>\n",
       "      <td>95075.54</td>\n",
       "      <td>2016-08-02</td>\n",
       "      <td>17:05:37</td>\n",
       "      <td>148.00</td>\n",
       "      <td>43.0</td>\n",
       "      <td>1</td>\n",
       "      <td>5219</td>\n",
       "    </tr>\n",
       "    <tr>\n",
       "      <th>8</th>\n",
       "      <td>T9</td>\n",
       "      <td>C8536061</td>\n",
       "      <td>1988-04-19</td>\n",
       "      <td>F</td>\n",
       "      <td>GURGAON</td>\n",
       "      <td>14906.96</td>\n",
       "      <td>2016-08-02</td>\n",
       "      <td>19:28:25</td>\n",
       "      <td>833.00</td>\n",
       "      <td>37.0</td>\n",
       "      <td>0</td>\n",
       "      <td>3058</td>\n",
       "    </tr>\n",
       "    <tr>\n",
       "      <th>9</th>\n",
       "      <td>T10</td>\n",
       "      <td>C6638934</td>\n",
       "      <td>1984-06-22</td>\n",
       "      <td>M</td>\n",
       "      <td>MUMBAI</td>\n",
       "      <td>4279.22</td>\n",
       "      <td>2016-08-02</td>\n",
       "      <td>19:24:46</td>\n",
       "      <td>289.11</td>\n",
       "      <td>41.0</td>\n",
       "      <td>1</td>\n",
       "      <td>5219</td>\n",
       "    </tr>\n",
       "  </tbody>\n",
       "</table>\n",
       "</div>"
      ],
      "text/plain": [
       "  TransactionID CustomerID CustomerDOB CustGender CustLocation  \\\n",
       "0            T1   C5841053  1994-01-10          F   JAMSHEDPUR   \n",
       "1            T2   C2142763  1957-04-04          M      JHAJJAR   \n",
       "2            T3   C4417068  1996-11-26          F       MUMBAI   \n",
       "3            T4   C5342380  1973-09-14          F       MUMBAI   \n",
       "4            T5   C9031234  1988-03-24          F  NAVI MUMBAI   \n",
       "5            T6   C1536588  1972-10-08          F     ITANAGAR   \n",
       "6            T7   C7126560  1992-01-26          F       MUMBAI   \n",
       "7            T8   C1220223  1982-01-27          M       MUMBAI   \n",
       "8            T9   C8536061  1988-04-19          F      GURGAON   \n",
       "9           T10   C6638934  1984-06-22          M       MUMBAI   \n",
       "\n",
       "   CustAccountBalance TransactionDate TransactionTime  TransactionAmount  \\\n",
       "0            17819.05      2016-08-02        14:32:07              25.00   \n",
       "1             2270.69      2016-08-02        14:18:58           27999.00   \n",
       "2            17874.44      2016-08-02        14:27:12             459.00   \n",
       "3           866503.21      2016-08-02        14:27:14            2060.00   \n",
       "4             6714.43      2016-08-02        18:11:56            1762.50   \n",
       "5            53609.20      2016-08-02        17:39:40             676.00   \n",
       "6              973.46      2016-08-02        17:38:06             566.00   \n",
       "7            95075.54      2016-08-02        17:05:37             148.00   \n",
       "8            14906.96      2016-08-02        19:28:25             833.00   \n",
       "9             4279.22      2016-08-02        19:24:46             289.11   \n",
       "\n",
       "    Age  GenderCode  LocationCode  \n",
       "0  31.0           0          3557  \n",
       "1  68.0           1          3618  \n",
       "2  29.0           0          5219  \n",
       "3  52.0           0          5219  \n",
       "4  37.0           0          5606  \n",
       "5  53.0           0          3473  \n",
       "6  33.0           0          5219  \n",
       "7  43.0           1          5219  \n",
       "8  37.0           0          3058  \n",
       "9  41.0           1          5219  "
      ]
     },
     "execution_count": 7,
     "metadata": {},
     "output_type": "execute_result"
    }
   ],
   "source": [
    "\n",
    "\n",
    "# Step 1: Convert 'CustomerDOB' to datetime and calculate age\n",
    "current_year = datetime.now().year\n",
    "df_bank_transactions_copy['Age'] = current_year - df_bank_transactions_copy['CustomerDOB'].dt.year\n",
    "\n",
    "# Step 3: Format 'TransactionTime' into HH:MM:SS\n",
    "df_bank_transactions_copy['TransactionTime'] = df_bank_transactions_copy['TransactionTime'].astype(str).str.zfill(6)\n",
    "df_bank_transactions_copy['TransactionTime'] = pd.to_datetime(df_bank_transactions_copy['TransactionTime'], format='%H%M%S', errors='coerce').dt.time\n",
    "\n",
    "# Step 4: Clean column names\n",
    "df_bank_transactions_copy.rename(columns={'TransactionAmount (INR)': 'TransactionAmount'}, inplace=True)\n",
    "\n",
    "# Step 5: Handle missing values\n",
    "df_bank_transactions_copy.dropna(inplace=True)\n",
    "\n",
    "# Step 6: Encode categorical variables\n",
    "df_bank_transactions_copy['GenderCode'] = df_bank_transactions_copy['CustGender'].astype('category').cat.codes\n",
    "df_bank_transactions_copy['LocationCode'] = df_bank_transactions_copy['CustLocation'].astype('category').cat.codes\n",
    "\n",
    "# Step 7: Drop duplicates\n",
    "df_bank_transactions_copy.drop_duplicates(inplace=True)\n",
    "\n",
    "# Final shape after cleaning\n",
    "# df_bank_transactions_copy.shape\n",
    "df_bank_transactions_copy.head(10)"
   ]
  },
  {
   "cell_type": "code",
   "execution_count": 8,
   "id": "05afe86b",
   "metadata": {},
   "outputs": [
    {
     "data": {
      "text/plain": [
       "TransactionID         0\n",
       "CustomerID            0\n",
       "CustomerDOB           0\n",
       "CustGender            0\n",
       "CustLocation          0\n",
       "CustAccountBalance    0\n",
       "TransactionDate       0\n",
       "TransactionTime       0\n",
       "TransactionAmount     0\n",
       "Age                   0\n",
       "GenderCode            0\n",
       "LocationCode          0\n",
       "dtype: int64"
      ]
     },
     "execution_count": 8,
     "metadata": {},
     "output_type": "execute_result"
    }
   ],
   "source": [
    "df_bank_transactions_copy.isnull().sum()"
   ]
  },
  {
   "cell_type": "code",
   "execution_count": 9,
   "id": "18974671",
   "metadata": {},
   "outputs": [
    {
     "data": {
      "text/plain": [
       "(1041614, 12)"
      ]
     },
     "execution_count": 9,
     "metadata": {},
     "output_type": "execute_result"
    }
   ],
   "source": [
    "df_bank_transactions_copy.shape"
   ]
  },
  {
   "cell_type": "code",
   "execution_count": 10,
   "id": "0ad2c633",
   "metadata": {},
   "outputs": [],
   "source": [
    "#  Time slot extraction\n",
    "def get_time_slot(t):\n",
    "    h = int(t[:2])\n",
    "    if 5 <= h < 12:\n",
    "        return 'Morning'\n",
    "    elif 12 <= h < 17:\n",
    "        return 'Afternoon'\n",
    "    elif 17 <= h < 21:\n",
    "        return 'Evening'\n",
    "    else:\n",
    "        return 'Night'\n",
    "df_bank_transactions_copy['TransactionTime'] = df_bank_transactions_copy['TransactionTime'].astype(str)\n",
    "df_bank_transactions_copy['TimeSlot'] = df_bank_transactions_copy['TransactionTime'].str[:2].apply(get_time_slot)\n",
    "df_bank_transactions_copy['Age'] = df_bank_transactions_copy['Age'].astype(int)\n"
   ]
  },
  {
   "cell_type": "code",
   "execution_count": 11,
   "id": "d3d728a1",
   "metadata": {},
   "outputs": [
    {
     "data": {
      "text/html": [
       "<div>\n",
       "<style scoped>\n",
       "    .dataframe tbody tr th:only-of-type {\n",
       "        vertical-align: middle;\n",
       "    }\n",
       "\n",
       "    .dataframe tbody tr th {\n",
       "        vertical-align: top;\n",
       "    }\n",
       "\n",
       "    .dataframe thead th {\n",
       "        text-align: right;\n",
       "    }\n",
       "</style>\n",
       "<table border=\"1\" class=\"dataframe\">\n",
       "  <thead>\n",
       "    <tr style=\"text-align: right;\">\n",
       "      <th></th>\n",
       "      <th>TransactionID</th>\n",
       "      <th>CustomerID</th>\n",
       "      <th>CustomerDOB</th>\n",
       "      <th>CustGender</th>\n",
       "      <th>CustLocation</th>\n",
       "      <th>CustAccountBalance</th>\n",
       "      <th>TransactionDate</th>\n",
       "      <th>TransactionTime</th>\n",
       "      <th>TransactionAmount</th>\n",
       "      <th>Age</th>\n",
       "      <th>GenderCode</th>\n",
       "      <th>LocationCode</th>\n",
       "      <th>TimeSlot</th>\n",
       "    </tr>\n",
       "  </thead>\n",
       "  <tbody>\n",
       "    <tr>\n",
       "      <th>0</th>\n",
       "      <td>T1</td>\n",
       "      <td>C5841053</td>\n",
       "      <td>1994-01-10</td>\n",
       "      <td>F</td>\n",
       "      <td>JAMSHEDPUR</td>\n",
       "      <td>17819.05</td>\n",
       "      <td>2016-08-02</td>\n",
       "      <td>14:32:07</td>\n",
       "      <td>25.00</td>\n",
       "      <td>31</td>\n",
       "      <td>0</td>\n",
       "      <td>3557</td>\n",
       "      <td>Afternoon</td>\n",
       "    </tr>\n",
       "    <tr>\n",
       "      <th>1</th>\n",
       "      <td>T2</td>\n",
       "      <td>C2142763</td>\n",
       "      <td>1957-04-04</td>\n",
       "      <td>M</td>\n",
       "      <td>JHAJJAR</td>\n",
       "      <td>2270.69</td>\n",
       "      <td>2016-08-02</td>\n",
       "      <td>14:18:58</td>\n",
       "      <td>27999.00</td>\n",
       "      <td>68</td>\n",
       "      <td>1</td>\n",
       "      <td>3618</td>\n",
       "      <td>Afternoon</td>\n",
       "    </tr>\n",
       "    <tr>\n",
       "      <th>2</th>\n",
       "      <td>T3</td>\n",
       "      <td>C4417068</td>\n",
       "      <td>1996-11-26</td>\n",
       "      <td>F</td>\n",
       "      <td>MUMBAI</td>\n",
       "      <td>17874.44</td>\n",
       "      <td>2016-08-02</td>\n",
       "      <td>14:27:12</td>\n",
       "      <td>459.00</td>\n",
       "      <td>29</td>\n",
       "      <td>0</td>\n",
       "      <td>5219</td>\n",
       "      <td>Afternoon</td>\n",
       "    </tr>\n",
       "    <tr>\n",
       "      <th>3</th>\n",
       "      <td>T4</td>\n",
       "      <td>C5342380</td>\n",
       "      <td>1973-09-14</td>\n",
       "      <td>F</td>\n",
       "      <td>MUMBAI</td>\n",
       "      <td>866503.21</td>\n",
       "      <td>2016-08-02</td>\n",
       "      <td>14:27:14</td>\n",
       "      <td>2060.00</td>\n",
       "      <td>52</td>\n",
       "      <td>0</td>\n",
       "      <td>5219</td>\n",
       "      <td>Afternoon</td>\n",
       "    </tr>\n",
       "    <tr>\n",
       "      <th>4</th>\n",
       "      <td>T5</td>\n",
       "      <td>C9031234</td>\n",
       "      <td>1988-03-24</td>\n",
       "      <td>F</td>\n",
       "      <td>NAVI MUMBAI</td>\n",
       "      <td>6714.43</td>\n",
       "      <td>2016-08-02</td>\n",
       "      <td>18:11:56</td>\n",
       "      <td>1762.50</td>\n",
       "      <td>37</td>\n",
       "      <td>0</td>\n",
       "      <td>5606</td>\n",
       "      <td>Evening</td>\n",
       "    </tr>\n",
       "    <tr>\n",
       "      <th>5</th>\n",
       "      <td>T6</td>\n",
       "      <td>C1536588</td>\n",
       "      <td>1972-10-08</td>\n",
       "      <td>F</td>\n",
       "      <td>ITANAGAR</td>\n",
       "      <td>53609.20</td>\n",
       "      <td>2016-08-02</td>\n",
       "      <td>17:39:40</td>\n",
       "      <td>676.00</td>\n",
       "      <td>53</td>\n",
       "      <td>0</td>\n",
       "      <td>3473</td>\n",
       "      <td>Evening</td>\n",
       "    </tr>\n",
       "    <tr>\n",
       "      <th>6</th>\n",
       "      <td>T7</td>\n",
       "      <td>C7126560</td>\n",
       "      <td>1992-01-26</td>\n",
       "      <td>F</td>\n",
       "      <td>MUMBAI</td>\n",
       "      <td>973.46</td>\n",
       "      <td>2016-08-02</td>\n",
       "      <td>17:38:06</td>\n",
       "      <td>566.00</td>\n",
       "      <td>33</td>\n",
       "      <td>0</td>\n",
       "      <td>5219</td>\n",
       "      <td>Evening</td>\n",
       "    </tr>\n",
       "    <tr>\n",
       "      <th>7</th>\n",
       "      <td>T8</td>\n",
       "      <td>C1220223</td>\n",
       "      <td>1982-01-27</td>\n",
       "      <td>M</td>\n",
       "      <td>MUMBAI</td>\n",
       "      <td>95075.54</td>\n",
       "      <td>2016-08-02</td>\n",
       "      <td>17:05:37</td>\n",
       "      <td>148.00</td>\n",
       "      <td>43</td>\n",
       "      <td>1</td>\n",
       "      <td>5219</td>\n",
       "      <td>Evening</td>\n",
       "    </tr>\n",
       "    <tr>\n",
       "      <th>8</th>\n",
       "      <td>T9</td>\n",
       "      <td>C8536061</td>\n",
       "      <td>1988-04-19</td>\n",
       "      <td>F</td>\n",
       "      <td>GURGAON</td>\n",
       "      <td>14906.96</td>\n",
       "      <td>2016-08-02</td>\n",
       "      <td>19:28:25</td>\n",
       "      <td>833.00</td>\n",
       "      <td>37</td>\n",
       "      <td>0</td>\n",
       "      <td>3058</td>\n",
       "      <td>Evening</td>\n",
       "    </tr>\n",
       "    <tr>\n",
       "      <th>9</th>\n",
       "      <td>T10</td>\n",
       "      <td>C6638934</td>\n",
       "      <td>1984-06-22</td>\n",
       "      <td>M</td>\n",
       "      <td>MUMBAI</td>\n",
       "      <td>4279.22</td>\n",
       "      <td>2016-08-02</td>\n",
       "      <td>19:24:46</td>\n",
       "      <td>289.11</td>\n",
       "      <td>41</td>\n",
       "      <td>1</td>\n",
       "      <td>5219</td>\n",
       "      <td>Evening</td>\n",
       "    </tr>\n",
       "  </tbody>\n",
       "</table>\n",
       "</div>"
      ],
      "text/plain": [
       "  TransactionID CustomerID CustomerDOB CustGender CustLocation  \\\n",
       "0            T1   C5841053  1994-01-10          F   JAMSHEDPUR   \n",
       "1            T2   C2142763  1957-04-04          M      JHAJJAR   \n",
       "2            T3   C4417068  1996-11-26          F       MUMBAI   \n",
       "3            T4   C5342380  1973-09-14          F       MUMBAI   \n",
       "4            T5   C9031234  1988-03-24          F  NAVI MUMBAI   \n",
       "5            T6   C1536588  1972-10-08          F     ITANAGAR   \n",
       "6            T7   C7126560  1992-01-26          F       MUMBAI   \n",
       "7            T8   C1220223  1982-01-27          M       MUMBAI   \n",
       "8            T9   C8536061  1988-04-19          F      GURGAON   \n",
       "9           T10   C6638934  1984-06-22          M       MUMBAI   \n",
       "\n",
       "   CustAccountBalance TransactionDate TransactionTime  TransactionAmount  Age  \\\n",
       "0            17819.05      2016-08-02        14:32:07              25.00   31   \n",
       "1             2270.69      2016-08-02        14:18:58           27999.00   68   \n",
       "2            17874.44      2016-08-02        14:27:12             459.00   29   \n",
       "3           866503.21      2016-08-02        14:27:14            2060.00   52   \n",
       "4             6714.43      2016-08-02        18:11:56            1762.50   37   \n",
       "5            53609.20      2016-08-02        17:39:40             676.00   53   \n",
       "6              973.46      2016-08-02        17:38:06             566.00   33   \n",
       "7            95075.54      2016-08-02        17:05:37             148.00   43   \n",
       "8            14906.96      2016-08-02        19:28:25             833.00   37   \n",
       "9             4279.22      2016-08-02        19:24:46             289.11   41   \n",
       "\n",
       "   GenderCode  LocationCode   TimeSlot  \n",
       "0           0          3557  Afternoon  \n",
       "1           1          3618  Afternoon  \n",
       "2           0          5219  Afternoon  \n",
       "3           0          5219  Afternoon  \n",
       "4           0          5606    Evening  \n",
       "5           0          3473    Evening  \n",
       "6           0          5219    Evening  \n",
       "7           1          5219    Evening  \n",
       "8           0          3058    Evening  \n",
       "9           1          5219    Evening  "
      ]
     },
     "execution_count": 11,
     "metadata": {},
     "output_type": "execute_result"
    }
   ],
   "source": [
    "\n",
    "# Final shape after cleaning\n",
    "df_bank_transactions_copy.head(10)"
   ]
  },
  {
   "cell_type": "code",
   "execution_count": 12,
   "id": "417a1ae5",
   "metadata": {},
   "outputs": [
    {
     "name": "stdout",
     "output_type": "stream",
     "text": [
      "Top 10 Cities by Spend:\n",
      " CustLocation\n",
      "MUMBAI       1.747338e+08\n",
      "NEW DELHI    1.584735e+08\n",
      "BANGALORE    1.174852e+08\n",
      "GURGAON      1.114485e+08\n",
      "DELHI        1.051617e+08\n",
      "KOLKATA      6.031786e+07\n",
      "CHENNAI      4.427020e+07\n",
      "NOIDA        4.424702e+07\n",
      "PUNE         3.906549e+07\n",
      "HYDERABAD    3.597353e+07\n",
      "Name: TransactionAmount, dtype: float64\n"
     ]
    }
   ],
   "source": [
    "# Analyze customer spending\n",
    "\n",
    "# 1. Top 10 cities by total spend\n",
    "top_cities = df_bank_transactions_copy.groupby('CustLocation')['TransactionAmount'].sum().sort_values(ascending=False).head(10)\n",
    "print(\"Top 10 Cities by Spend:\\n\", top_cities)\n"
   ]
  },
  {
   "cell_type": "code",
   "execution_count": 13,
   "id": "d77ae295",
   "metadata": {
    "scrolled": true
   },
   "outputs": [
    {
     "name": "stdout",
     "output_type": "stream",
     "text": [
      "\n",
      "Top 10 Customers by Avg Transaction:\n",
      " CustomerID\n",
      "C7319271    1560034.99\n",
      "C6677159    1380002.88\n",
      "C4141768     991132.22\n",
      "C1830891     720001.16\n",
      "C6549785     600008.32\n",
      "C5036642     600003.45\n",
      "C4328064     569500.27\n",
      "C1425138     561001.00\n",
      "C5833636     557000.73\n",
      "C7549492     543699.36\n",
      "Name: TransactionAmount, dtype: float64\n"
     ]
    }
   ],
   "source": [
    "\n",
    "# 2. Top 10 customers by average transaction\n",
    "avg_trans_per_customer = df_bank_transactions_copy.groupby('CustomerID')['TransactionAmount'].mean().sort_values(ascending=False).head(10)\n",
    "print(\"\\nTop 10 Customers by Avg Transaction:\\n\", avg_trans_per_customer)\n"
   ]
  },
  {
   "cell_type": "code",
   "execution_count": 14,
   "id": "73aaeee5",
   "metadata": {},
   "outputs": [
    {
     "name": "stdout",
     "output_type": "stream",
     "text": [
      "\n",
      "Transaction Counts by Time of Day:\n",
      " Evening      337964\n",
      "Afternoon    319253\n",
      "Night        205853\n",
      "Morning      178544\n",
      "Name: TimeSlot, dtype: int64\n"
     ]
    }
   ],
   "source": [
    "\n",
    "# 3. Transaction count by time of day\n",
    "time_slot_counts = df_bank_transactions_copy['TimeSlot'].value_counts()\n",
    "print(\"\\nTransaction Counts by Time of Day:\\n\", time_slot_counts)\n"
   ]
  },
  {
   "cell_type": "code",
   "execution_count": 15,
   "id": "f0fa1371",
   "metadata": {},
   "outputs": [
    {
     "name": "stdout",
     "output_type": "stream",
     "text": [
      "\n",
      "Daily Spend (Last 10 Days):\n",
      " TransactionDate\n",
      "2016-09-15    28594186.15\n",
      "2016-09-18    23537230.39\n",
      "2016-09-22    12590042.45\n",
      "2016-09-23     4682132.64\n",
      "2016-09-25    11926258.80\n",
      "2016-09-26    20477176.09\n",
      "2016-09-27    10785749.73\n",
      "2016-09-30     3273193.81\n",
      "2016-10-16        1067.00\n",
      "2016-10-21     7623539.07\n",
      "Name: TransactionAmount, dtype: float64\n"
     ]
    }
   ],
   "source": [
    "\n",
    "# 4. Daily spending trend (last 10 days)\n",
    "daily_spend = df_bank_transactions_copy.groupby('TransactionDate')['TransactionAmount'].sum().sort_index().tail(10)\n",
    "print(\"\\nDaily Spend (Last 10 Days):\\n\", daily_spend)"
   ]
  },
  {
   "cell_type": "code",
   "execution_count": 16,
   "id": "cd880192",
   "metadata": {},
   "outputs": [],
   "source": [
    "# Insights\n",
    "\n",
    "# 1. Which cities have the highest total transaction amount\n",
    "# 2. Which customers are top average spenders\n",
    "# 3. What time of day people transact most\n",
    "# 4. How spending trends have moved over recent days"
   ]
  },
  {
   "cell_type": "markdown",
   "id": "8bbab919",
   "metadata": {},
   "source": [
    "# Visualization\n"
   ]
  },
  {
   "cell_type": "markdown",
   "id": "5b0c9f5e",
   "metadata": {},
   "source": [
    "# 1. Analyse the customer transaction patterns"
   ]
  },
  {
   "cell_type": "code",
   "execution_count": 17,
   "id": "8b7cbcd8",
   "metadata": {},
   "outputs": [
    {
     "data": {
      "image/png": "[encoded data removed]",
      "text/plain": [
       "<Figure size 720x432 with 1 Axes>"
      ]
     },
     "metadata": {
      "needs_background": "light"
     },
     "output_type": "display_data"
    }
   ],
   "source": [
    "\n",
    "transaction_patterns = df_bank_transactions_copy.groupby('CustomerID')['TransactionAmount'].sum().reset_index()\n",
    "transaction_patterns\n",
    "plt.figure(figsize = (10,6))\n",
    "sns.histplot(transaction_patterns[\"TransactionAmount\"], bins =  1000, color='skyblue')\n",
    "plt.title(\"Distribution of Transaction Amounts\")\n",
    "plt.xlabel(\"Transaction Amount\")\n",
    "plt.ylabel(\"Count\")\n",
    "# plt.xlim(0, df_bank_transactions_copy['TransactionAmount'].quantile(0.99))  # Focus on common range\n",
    "plt.show()"
   ]
  },
  {
   "cell_type": "markdown",
   "id": "0ad21483",
   "metadata": {},
   "source": [
    "# 2. Average Spend by Gender"
   ]
  },
  {
   "cell_type": "code",
   "execution_count": 18,
   "id": "265625d0",
   "metadata": {},
   "outputs": [
    {
     "data": {
      "text/html": [
       "<div>\n",
       "<style scoped>\n",
       "    .dataframe tbody tr th:only-of-type {\n",
       "        vertical-align: middle;\n",
       "    }\n",
       "\n",
       "    .dataframe tbody tr th {\n",
       "        vertical-align: top;\n",
       "    }\n",
       "\n",
       "    .dataframe thead th {\n",
       "        text-align: right;\n",
       "    }\n",
       "</style>\n",
       "<table border=\"1\" class=\"dataframe\">\n",
       "  <thead>\n",
       "    <tr style=\"text-align: right;\">\n",
       "      <th></th>\n",
       "      <th>CustGender</th>\n",
       "      <th>TransactionAmountCount</th>\n",
       "    </tr>\n",
       "  </thead>\n",
       "  <tbody>\n",
       "    <tr>\n",
       "      <th>0</th>\n",
       "      <td>F</td>\n",
       "      <td>1643.958457</td>\n",
       "    </tr>\n",
       "    <tr>\n",
       "      <th>1</th>\n",
       "      <td>M</td>\n",
       "      <td>1537.341185</td>\n",
       "    </tr>\n",
       "    <tr>\n",
       "      <th>2</th>\n",
       "      <td>T</td>\n",
       "      <td>32500.000000</td>\n",
       "    </tr>\n",
       "  </tbody>\n",
       "</table>\n",
       "</div>"
      ],
      "text/plain": [
       "  CustGender  TransactionAmountCount\n",
       "0          F             1643.958457\n",
       "1          M             1537.341185\n",
       "2          T            32500.000000"
      ]
     },
     "execution_count": 18,
     "metadata": {},
     "output_type": "execute_result"
    }
   ],
   "source": [
    "avg_spend_gender_wise = df_bank_transactions_copy.groupby(\"CustGender\")[\"TransactionAmount\"].mean().reset_index()\n",
    "avg_spend_gender_wise.columns = ['CustGender', 'TransactionAmountCount']\n",
    "avg_spend_gender_wise"
   ]
  },
  {
   "cell_type": "code",
   "execution_count": 19,
   "id": "01ff6f5e",
   "metadata": {},
   "outputs": [
    {
     "data": {
      "text/plain": [
       "Text(0, 0.5, 'TransactionAmountCount')"
      ]
     },
     "execution_count": 19,
     "metadata": {},
     "output_type": "execute_result"
    },
    {
     "data": {
      "image/png": "[encoded data removed]",
      "text/plain": [
       "<Figure size 720x432 with 1 Axes>"
      ]
     },
     "metadata": {
      "needs_background": "light"
     },
     "output_type": "display_data"
    }
   ],
   "source": [
    "\n",
    "\n",
    "plt.figure(figsize = (10,6))\n",
    "\n",
    "plt.bar(avg_spend_gender_wise[\"CustGender\"], avg_spend_gender_wise[\"TransactionAmountCount\"] , color =\"skyblue\")\n",
    "plt.title(\" Average Spend by Gender\")\n",
    "plt.xlabel(\"CustGender\")\n",
    "plt.ylabel(\"TransactionAmountCount\")"
   ]
  },
  {
   "cell_type": "markdown",
   "id": "04670696",
   "metadata": {},
   "source": [
    "# 3. Spending by Age Group"
   ]
  },
  {
   "cell_type": "code",
   "execution_count": 20,
   "id": "565f7493",
   "metadata": {},
   "outputs": [
    {
     "data": {
      "image/png": "[encoded data removed]",
      "text/plain": [
       "<Figure size 720x432 with 1 Axes>"
      ]
     },
     "metadata": {
      "needs_background": "light"
     },
     "output_type": "display_data"
    }
   ],
   "source": [
    "\n",
    "# 1. Group again with numeric totals\n",
    "binList = [18, 30, 40, 50, 60, 80]\n",
    "df_bank_transactions_copy[\"AgeGroup\"] = pd.cut(df_bank_transactions_copy[\"Age\"], bins=binList, labels=[\"18–30\", \"31–40\", \"41–50\", \"51–60\", \"61+\"])\n",
    "\n",
    "# 2. Group by Age Group\n",
    "spend_age_wise = df_bank_transactions_copy.groupby(\"AgeGroup\")[\"TransactionAmount\"].sum().reset_index()\n",
    "spend_age_wise.columns = ['AgeGroup', 'TotalTransactionAmount']\n",
    "\n",
    "# 3. Sort (numeric)\n",
    "spend_age_wise = spend_age_wise.sort_values(by=\"TotalTransactionAmount\", ascending=False)\n",
    "\n",
    "# 4. Plot with readable Y-axis\n",
    "plt.figure(figsize=(10, 6))\n",
    "sns.barplot(x=\"AgeGroup\", y=\"TotalTransactionAmount\", data=spend_age_wise, palette=\"viridis\")\n",
    "\n",
    "# 5. Add comma-separated labels\n",
    "for i, row in spend_age_wise.iterrows():\n",
    "    plt.text(i, row.TotalTransactionAmount, f\"{row.TotalTransactionAmount:,.0f}\", ha='center', va='bottom')\n",
    "\n",
    "plt.xlabel(\"Age Group\")\n",
    "plt.ylabel(\"Total Transaction Amount (INR)\")\n",
    "plt.title(\"Spending by Age Group\")\n",
    "plt.tight_layout()\n",
    "plt.show()\n"
   ]
  },
  {
   "cell_type": "markdown",
   "id": "f392be93",
   "metadata": {},
   "source": [
    "# Top 10 cities by total transaction amount"
   ]
  },
  {
   "cell_type": "code",
   "execution_count": 21,
   "id": "c29ef04c",
   "metadata": {},
   "outputs": [
    {
     "data": {
      "image/png": "[encoded data removed]",
      "text/plain": [
       "<Figure size 864x432 with 1 Axes>"
      ]
     },
     "metadata": {
      "needs_background": "light"
     },
     "output_type": "display_data"
    }
   ],
   "source": [
    "\n",
    "transaction_patterns = df_bank_transactions_copy.groupby('CustLocation')['TransactionAmount'].sum().reset_index()\n",
    "top10cities = transaction_patterns.sort_values(by = \"TransactionAmount\", ascending = False).head(10)\n",
    "\n",
    "top10cities\n",
    "#  Plot\n",
    "plt.figure(figsize=(12, 6))\n",
    "sns.barplot(data=top10cities, x='CustLocation', y='TransactionAmount', palette='viridis')\n",
    "\n",
    "# Add comma-separated labels above bars\n",
    "for i, row in enumerate(top10cities.itertuples()):\n",
    "    plt.text(i, row.TransactionAmount, f\"{row.TransactionAmount:,.0f}\", ha='center', va='bottom', fontsize=9)\n",
    "\n",
    "# Customize\n",
    "plt.title(\"Top 10 Cities by Total Transaction Amount\", fontsize=14)\n",
    "plt.xlabel(\"City\", fontsize=12)\n",
    "plt.ylabel(\"Transaction Amount (INR)\", fontsize=12)\n",
    "plt.xticks(rotation=45)\n",
    "plt.tight_layout()\n",
    "plt.grid(axis='y', linestyle='--', alpha=0.5)"
   ]
  },
  {
   "cell_type": "code",
   "execution_count": 22,
   "id": "96ff43e6",
   "metadata": {},
   "outputs": [
    {
     "data": {
      "text/html": [
       "<div>\n",
       "<style scoped>\n",
       "    .dataframe tbody tr th:only-of-type {\n",
       "        vertical-align: middle;\n",
       "    }\n",
       "\n",
       "    .dataframe tbody tr th {\n",
       "        vertical-align: top;\n",
       "    }\n",
       "\n",
       "    .dataframe thead th {\n",
       "        text-align: right;\n",
       "    }\n",
       "</style>\n",
       "<table border=\"1\" class=\"dataframe\">\n",
       "  <thead>\n",
       "    <tr style=\"text-align: right;\">\n",
       "      <th></th>\n",
       "      <th>CustLocation</th>\n",
       "      <th>TransactionAmount</th>\n",
       "    </tr>\n",
       "  </thead>\n",
       "  <tbody>\n",
       "    <tr>\n",
       "      <th>5219</th>\n",
       "      <td>MUMBAI</td>\n",
       "      <td>1.747338e+08</td>\n",
       "    </tr>\n",
       "    <tr>\n",
       "      <th>5738</th>\n",
       "      <td>NEW DELHI</td>\n",
       "      <td>1.584735e+08</td>\n",
       "    </tr>\n",
       "    <tr>\n",
       "      <th>770</th>\n",
       "      <td>BANGALORE</td>\n",
       "      <td>1.174852e+08</td>\n",
       "    </tr>\n",
       "    <tr>\n",
       "      <th>3058</th>\n",
       "      <td>GURGAON</td>\n",
       "      <td>1.114485e+08</td>\n",
       "    </tr>\n",
       "    <tr>\n",
       "      <th>2055</th>\n",
       "      <td>DELHI</td>\n",
       "      <td>1.051617e+08</td>\n",
       "    </tr>\n",
       "    <tr>\n",
       "      <th>4231</th>\n",
       "      <td>KOLKATA</td>\n",
       "      <td>6.031786e+07</td>\n",
       "    </tr>\n",
       "    <tr>\n",
       "      <th>1591</th>\n",
       "      <td>CHENNAI</td>\n",
       "      <td>4.427020e+07</td>\n",
       "    </tr>\n",
       "    <tr>\n",
       "      <th>5833</th>\n",
       "      <td>NOIDA</td>\n",
       "      <td>4.424702e+07</td>\n",
       "    </tr>\n",
       "    <tr>\n",
       "      <th>6656</th>\n",
       "      <td>PUNE</td>\n",
       "      <td>3.906549e+07</td>\n",
       "    </tr>\n",
       "    <tr>\n",
       "      <th>3367</th>\n",
       "      <td>HYDERABAD</td>\n",
       "      <td>3.597353e+07</td>\n",
       "    </tr>\n",
       "  </tbody>\n",
       "</table>\n",
       "</div>"
      ],
      "text/plain": [
       "     CustLocation  TransactionAmount\n",
       "5219       MUMBAI       1.747338e+08\n",
       "5738    NEW DELHI       1.584735e+08\n",
       "770     BANGALORE       1.174852e+08\n",
       "3058      GURGAON       1.114485e+08\n",
       "2055        DELHI       1.051617e+08\n",
       "4231      KOLKATA       6.031786e+07\n",
       "1591      CHENNAI       4.427020e+07\n",
       "5833        NOIDA       4.424702e+07\n",
       "6656         PUNE       3.906549e+07\n",
       "3367    HYDERABAD       3.597353e+07"
      ]
     },
     "execution_count": 22,
     "metadata": {},
     "output_type": "execute_result"
    }
   ],
   "source": [
    "top10cities"
   ]
  },
  {
   "cell_type": "code",
   "execution_count": 23,
   "id": "0402c309",
   "metadata": {},
   "outputs": [],
   "source": [
    "# top_cities = df_bank_transactions_copy.groupby('CustLocation')['TransactionAmount'].sum().sort_values(ascending=False).head(10)\n",
    "# top_cities.plot(kind='barh', title='Top 10 Cities by Total Spend', figsize=(10, 6), color='skyblue')\n",
    "# plt.xlabel(\"Total Transaction Amount (INR)\")\n",
    "# plt.ylabel(\"City\")\n",
    "# plt.gca().invert_yaxis()\n",
    "# plt.show()"
   ]
  },
  {
   "cell_type": "markdown",
   "id": "aaa52a5c",
   "metadata": {},
   "source": [
    "# Top 10 customers by average transaction"
   ]
  },
  {
   "cell_type": "code",
   "execution_count": 24,
   "id": "8351e005",
   "metadata": {},
   "outputs": [
    {
     "data": {
      "image/png": "[encoded data removed]",
      "text/plain": [
       "<Figure size 864x432 with 1 Axes>"
      ]
     },
     "metadata": {
      "needs_background": "light"
     },
     "output_type": "display_data"
    }
   ],
   "source": [
    "avg_trans_per_customer = df_bank_transactions_copy.groupby('CustomerID')['TransactionAmount'].mean().sort_values(ascending=False).head(10).reset_index()\n",
    "avg_trans_per_customer\n",
    "\n",
    "# Plot\n",
    "plt.figure(figsize=(12, 6))\n",
    "sns.barplot(data=avg_trans_per_customer, x='CustomerID', y='TransactionAmount', palette='viridis')\n",
    "\n",
    "# Add comma-separated labels above bars\n",
    "for i, row in enumerate(avg_trans_per_customer.itertuples()):\n",
    "    plt.text(i, row.TransactionAmount, f\"{row.TransactionAmount:,.0f}\", ha='center', va='bottom', fontsize=9)\n",
    "\n",
    "# Customize\n",
    "plt.title(\"Top 10 Customer by Average Transaction Amount\", fontsize=14)\n",
    "plt.xlabel(\"City\", fontsize=12)\n",
    "plt.ylabel(\"Average Transaction Amount\", fontsize=12)\n",
    "plt.xticks(rotation=45)\n",
    "plt.tight_layout()\n",
    "plt.grid(axis='y', linestyle='--', alpha=0.5)"
   ]
  },
  {
   "cell_type": "markdown",
   "id": "bbdd1692",
   "metadata": {},
   "source": [
    "# 3. Transaction count by time of day"
   ]
  },
  {
   "cell_type": "code",
   "execution_count": 25,
   "id": "0e4a9b77",
   "metadata": {},
   "outputs": [
    {
     "data": {
      "text/plain": [
       "Text(0.5, 1.0, 'Transaction count by time of day')"
      ]
     },
     "execution_count": 25,
     "metadata": {},
     "output_type": "execute_result"
    },
    {
     "data": {
      "image/png": "[encoded data removed]",
      "text/plain": [
       "<Figure size 720x432 with 1 Axes>"
      ]
     },
     "metadata": {},
     "output_type": "display_data"
    }
   ],
   "source": [
    "\n",
    "# 3. Transaction count by time of day\n",
    "time_slot_counts = df_bank_transactions_copy['TimeSlot'].value_counts()\n",
    "\n",
    "# Pie Chart\n",
    "plt.figure(figsize=(10,6))\n",
    "plt.pie(time_slot_counts, labels = time_slot_counts.index, autopct = \"%1.1f%%\", colors = ['#ADD8E6', '#FFA500', 'SkyBlue', 'LightGreen'])\n",
    "plt.title(\"Transaction count by time of day\")"
   ]
  },
  {
   "cell_type": "markdown",
   "id": "f94984e6",
   "metadata": {},
   "source": [
    "# 4. Daily spending trend (last 10 days)"
   ]
  },
  {
   "cell_type": "code",
   "execution_count": 26,
   "id": "bbfe28fc",
   "metadata": {},
   "outputs": [
    {
     "data": {
      "text/plain": [
       "TransactionDate\n",
       "2016-09-15    28594186.15\n",
       "2016-09-18    23537230.39\n",
       "2016-09-22    12590042.45\n",
       "2016-09-23     4682132.64\n",
       "2016-09-25    11926258.80\n",
       "2016-09-26    20477176.09\n",
       "2016-09-27    10785749.73\n",
       "2016-09-30     3273193.81\n",
       "2016-10-16        1067.00\n",
       "2016-10-21     7623539.07\n",
       "Name: TransactionAmount, dtype: float64"
      ]
     },
     "execution_count": 26,
     "metadata": {},
     "output_type": "execute_result"
    }
   ],
   "source": [
    "daily_spend = df_bank_transactions_copy.groupby('TransactionDate')['TransactionAmount'].sum().sort_index().tail(10)\n",
    "daily_spend "
   ]
  },
  {
   "cell_type": "code",
   "execution_count": null,
   "id": "c54364c5",
   "metadata": {},
   "outputs": [],
   "source": []
  }
 ],
 "metadata": {
  "kernelspec": {
   "display_name": "Python 3 (ipykernel)",
   "language": "python",
   "name": "python3"
  },
  "language_info": {
   "codemirror_mode": {
    "name": "ipython",
    "version": 3
   },
   "file_extension": ".py",
   "mimetype": "text/x-python",
   "name": "python",
   "nbconvert_exporter": "python",
   "pygments_lexer": "ipython3",
   "version": "3.9.12"
  }
 },
 "nbformat": 4,
 "nbformat_minor": 5
}
